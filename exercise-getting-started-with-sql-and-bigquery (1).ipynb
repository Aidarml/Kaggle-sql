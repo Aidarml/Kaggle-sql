{
 "cells": [
  {
   "cell_type": "markdown",
   "metadata": {},
   "source": [
    "**This notebook is an exercise in the [SQL](https://www.kaggle.com/learn/intro-to-sql) course.  You can reference the tutorial at [this link](https://www.kaggle.com/dansbecker/getting-started-with-sql-and-bigquery).**\n",
    "\n",
    "---\n"
   ]
  },
  {
   "cell_type": "markdown",
   "metadata": {},
   "source": [
    "# Introduction\n",
    "\n",
    "The first test of your new data exploration skills uses data describing crime in the city of Chicago.\n",
    "\n",
    "Before you get started, run the following cell. It sets up the automated feedback system to review your answers."
   ]
  },
  {
   "cell_type": "code",
   "execution_count": 17,
   "metadata": {
    "execution": {
     "iopub.execute_input": "2022-07-24T18:35:00.080788Z",
     "iopub.status.busy": "2022-07-24T18:35:00.079866Z",
     "iopub.status.idle": "2022-07-24T18:35:00.086898Z",
     "shell.execute_reply": "2022-07-24T18:35:00.086069Z",
     "shell.execute_reply.started": "2022-07-24T18:35:00.080748Z"
    }
   },
   "outputs": [],
   "source": [
    "# Set up feedack system\n",
    "from learntools.core import binder\n",
    "binder.bind(globals())\n",
    "from learntools.sql.ex1 import *\n",
    "print(\"Setup Complete\")"
   ]
  },
  {
   "cell_type": "markdown",
   "metadata": {},
   "source": [
    "Use the next code cell to fetch the dataset."
   ]
  },
  {
   "cell_type": "code",
   "execution_count": 18,
   "metadata": {
    "execution": {
     "iopub.execute_input": "2022-07-24T18:35:00.092641Z",
     "iopub.status.busy": "2022-07-24T18:35:00.092087Z",
     "iopub.status.idle": "2022-07-24T18:35:00.568780Z",
     "shell.execute_reply": "2022-07-24T18:35:00.567300Z",
     "shell.execute_reply.started": "2022-07-24T18:35:00.092611Z"
    }
   },
   "outputs": [],
   "source": [
    "from google.cloud import bigquery\n",
    "\n",
    "# Create a \"Client\" object\n",
    "client = bigquery.Client()\n",
    "\n",
    "# Construct a reference to the \"chicago_crime\" dataset\n",
    "dataset_ref = client.dataset(\"chicago_crime\", project=\"bigquery-public-data\")\n",
    "\n",
    "# API request - fetch the dataset\n",
    "dataset = client.get_dataset(dataset_ref)"
   ]
  },
  {
   "cell_type": "markdown",
   "metadata": {},
   "source": [
    "# Exercises\n",
    "\n",
    "### 1) Count tables in the dataset\n",
    "\n",
    "How many tables are in the Chicago Crime dataset?"
   ]
  },
  {
   "cell_type": "code",
   "execution_count": 19,
   "metadata": {
    "execution": {
     "iopub.execute_input": "2022-07-24T18:35:00.571947Z",
     "iopub.status.busy": "2022-07-24T18:35:00.571305Z",
     "iopub.status.idle": "2022-07-24T18:35:01.031908Z",
     "shell.execute_reply": "2022-07-24T18:35:01.030410Z",
     "shell.execute_reply.started": "2022-07-24T18:35:00.571894Z"
    }
   },
   "outputs": [],
   "source": [
    "# Write the code you need here to figure out the answer\n",
    "tables = list(client.list_tables(dataset))\n",
    "for table in tables:\n",
    "    print(table.table_id)"
   ]
  },
  {
   "cell_type": "code",
   "execution_count": 20,
   "metadata": {
    "execution": {
     "iopub.execute_input": "2022-07-24T18:35:01.034211Z",
     "iopub.status.busy": "2022-07-24T18:35:01.033632Z",
     "iopub.status.idle": "2022-07-24T18:35:01.044650Z",
     "shell.execute_reply": "2022-07-24T18:35:01.043560Z",
     "shell.execute_reply.started": "2022-07-24T18:35:01.034170Z"
    }
   },
   "outputs": [],
   "source": [
    "num_tables = len(tables)  # Store the answer as num_tables and then run this cell\n",
    "\n",
    "# Check your answer\n",
    "q_1.check()"
   ]
  },
  {
   "cell_type": "markdown",
   "metadata": {},
   "source": [
    "For a hint or the solution, uncomment the appropriate line below."
   ]
  },
  {
   "cell_type": "code",
   "execution_count": 21,
   "metadata": {
    "execution": {
     "iopub.execute_input": "2022-07-24T18:35:01.048559Z",
     "iopub.status.busy": "2022-07-24T18:35:01.047755Z",
     "iopub.status.idle": "2022-07-24T18:35:01.053099Z",
     "shell.execute_reply": "2022-07-24T18:35:01.052065Z",
     "shell.execute_reply.started": "2022-07-24T18:35:01.048515Z"
    }
   },
   "outputs": [],
   "source": [
    "#q_1.hint()\n",
    "#q_1.solution()"
   ]
  },
  {
   "cell_type": "markdown",
   "metadata": {},
   "source": [
    "### 2) Explore the table schema\n",
    "\n",
    "How many columns in the `crime` table have `TIMESTAMP` data?"
   ]
  },
  {
   "cell_type": "code",
   "execution_count": 22,
   "metadata": {
    "execution": {
     "iopub.execute_input": "2022-07-24T18:35:01.055266Z",
     "iopub.status.busy": "2022-07-24T18:35:01.054587Z",
     "iopub.status.idle": "2022-07-24T18:35:01.296621Z",
     "shell.execute_reply": "2022-07-24T18:35:01.295334Z",
     "shell.execute_reply.started": "2022-07-24T18:35:01.055224Z"
    }
   },
   "outputs": [],
   "source": [
    "# Write the code to figure out the answer\n",
    "table_ref = dataset_ref.table(\"crime\")\n",
    "table = client.get_table(table_ref)\n",
    "print(table.schema)"
   ]
  },
  {
   "cell_type": "code",
   "execution_count": 23,
   "metadata": {
    "execution": {
     "iopub.execute_input": "2022-07-24T18:35:01.298993Z",
     "iopub.status.busy": "2022-07-24T18:35:01.297956Z",
     "iopub.status.idle": "2022-07-24T18:35:01.320106Z",
     "shell.execute_reply": "2022-07-24T18:35:01.318762Z",
     "shell.execute_reply.started": "2022-07-24T18:35:01.298927Z"
    }
   },
   "outputs": [],
   "source": [
    "num_timestamp_fields = 2 # Put your answer here\n",
    "\n",
    "# Check your answer\n",
    "q_2.check()"
   ]
  },
  {
   "cell_type": "markdown",
   "metadata": {},
   "source": [
    "For a hint or the solution, uncomment the appropriate line below."
   ]
  },
  {
   "cell_type": "code",
   "execution_count": 24,
   "metadata": {
    "execution": {
     "iopub.execute_input": "2022-07-24T18:35:01.322373Z",
     "iopub.status.busy": "2022-07-24T18:35:01.321582Z",
     "iopub.status.idle": "2022-07-24T18:35:01.326206Z",
     "shell.execute_reply": "2022-07-24T18:35:01.325078Z",
     "shell.execute_reply.started": "2022-07-24T18:35:01.322340Z"
    }
   },
   "outputs": [],
   "source": [
    "# q_2.hint()\n",
    "# q_2.solution()"
   ]
  },
  {
   "cell_type": "markdown",
   "metadata": {},
   "source": [
    "### 3) Create a crime map\n",
    "\n",
    "If you wanted to create a map with a dot at the location of each crime, what are the names of the two fields you likely need to pull out of the `crime` table to plot the crimes on a map?"
   ]
  },
  {
   "cell_type": "code",
   "execution_count": 25,
   "metadata": {
    "execution": {
     "iopub.execute_input": "2022-07-24T18:35:01.328607Z",
     "iopub.status.busy": "2022-07-24T18:35:01.327811Z",
     "iopub.status.idle": "2022-07-24T18:35:01.993949Z",
     "shell.execute_reply": "2022-07-24T18:35:01.992714Z",
     "shell.execute_reply.started": "2022-07-24T18:35:01.328573Z"
    }
   },
   "outputs": [],
   "source": [
    "client.list_rows(table, max_results=5).to_dataframe()# Write the code here to explore the data so you can find the answer"
   ]
  },
  {
   "cell_type": "code",
   "execution_count": 26,
   "metadata": {
    "execution": {
     "iopub.execute_input": "2022-07-24T18:35:01.996702Z",
     "iopub.status.busy": "2022-07-24T18:35:01.995521Z",
     "iopub.status.idle": "2022-07-24T18:35:02.005218Z",
     "shell.execute_reply": "2022-07-24T18:35:02.003479Z",
     "shell.execute_reply.started": "2022-07-24T18:35:01.996658Z"
    }
   },
   "outputs": [],
   "source": [
    "fields_for_plotting = ['latitude', 'longitude'] # Put your answers here\n",
    "fields_for_plotting\n",
    "# Check your answer\n",
    "# q_3.check()"
   ]
  },
  {
   "cell_type": "markdown",
   "metadata": {},
   "source": [
    "For a hint or the solution, uncomment the appropriate line below."
   ]
  },
  {
   "cell_type": "code",
   "execution_count": 27,
   "metadata": {
    "execution": {
     "iopub.execute_input": "2022-07-24T18:35:02.008917Z",
     "iopub.status.busy": "2022-07-24T18:35:02.008126Z",
     "iopub.status.idle": "2022-07-24T18:35:02.015023Z",
     "shell.execute_reply": "2022-07-24T18:35:02.014032Z",
     "shell.execute_reply.started": "2022-07-24T18:35:02.008861Z"
    }
   },
   "outputs": [],
   "source": [
    "# q_3.hint()\n",
    "# q_3.solution()"
   ]
  },
  {
   "cell_type": "markdown",
   "metadata": {},
   "source": [
    "Thinking about the question above, there are a few columns that appear to have geographic data. Look at a few values (with the `list_rows()` command) to see if you can determine their relationship.  Two columns will still be hard to interpret. But it should be obvious how the `location` column relates to `latitude` and `longitude`."
   ]
  },
  {
   "cell_type": "code",
   "execution_count": 28,
   "metadata": {
    "execution": {
     "iopub.execute_input": "2022-07-24T18:35:02.017298Z",
     "iopub.status.busy": "2022-07-24T18:35:02.016640Z",
     "iopub.status.idle": "2022-07-24T18:35:02.028488Z",
     "shell.execute_reply": "2022-07-24T18:35:02.027456Z",
     "shell.execute_reply.started": "2022-07-24T18:35:02.017254Z"
    }
   },
   "outputs": [],
   "source": [
    "# Scratch space for your code"
   ]
  },
  {
   "cell_type": "markdown",
   "metadata": {},
   "source": [
    "# Keep going\n",
    "\n",
    "You've looked at the schema, but you haven't yet done anything exciting with the data itself. Things get more interesting when you get to the data, so keep going to **[write your first SQL query](https://www.kaggle.com/dansbecker/select-from-where).**"
   ]
  },
  {
   "cell_type": "markdown",
   "metadata": {},
   "source": [
    "---\n",
    "\n",
    "\n",
    "\n",
    "\n",
    "*Have questions or comments? Visit the [course discussion forum](https://www.kaggle.com/learn/intro-to-sql/discussion) to chat with other learners.*"
   ]
  }
 ],
 "metadata": {
  "kernelspec": {
   "display_name": "Python 3 (ipykernel)",
   "language": "python",
   "name": "python3"
  },
  "language_info": {
   "codemirror_mode": {
    "name": "ipython",
    "version": 3
   },
   "file_extension": ".py",
   "mimetype": "text/x-python",
   "name": "python",
   "nbconvert_exporter": "python",
   "pygments_lexer": "ipython3",
   "version": "3.9.12"
  }
 },
 "nbformat": 4,
 "nbformat_minor": 4
}
